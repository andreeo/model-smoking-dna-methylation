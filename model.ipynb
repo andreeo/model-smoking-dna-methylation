{
 "cells": [
  {
   "cell_type": "markdown",
   "id": "1d1efc63fd3a9d0e",
   "metadata": {},
   "source": [
    "## Importing necessary libraries"
   ]
  },
  {
   "cell_type": "code",
   "execution_count": 12,
   "id": "initial_id",
   "metadata": {
    "ExecuteTime": {
     "end_time": "2024-06-03T20:43:35.531010Z",
     "start_time": "2024-06-03T20:43:35.527442Z"
    }
   },
   "outputs": [],
   "source": [
    "import pandas as pd\n",
    "from sklearn.model_selection import train_test_split\n",
    "from sklearn.preprocessing import LabelEncoder\n",
    "from sklearn.impute import SimpleImputer\n",
    "from sklearn.linear_model import LogisticRegression\n",
    "from sklearn.metrics import accuracy_score"
   ]
  },
  {
   "cell_type": "markdown",
   "id": "6ced36f475d3232b",
   "metadata": {},
   "source": [
    "## Data loading"
   ]
  },
  {
   "cell_type": "code",
   "execution_count": 13,
   "id": "27571dde506a0c1b",
   "metadata": {
    "ExecuteTime": {
     "end_time": "2024-06-03T20:43:35.745384Z",
     "start_time": "2024-06-03T20:43:35.699528Z"
    }
   },
   "outputs": [
    {
     "data": {
      "text/html": [
       "<div>\n",
       "<style scoped>\n",
       "    .dataframe tbody tr th:only-of-type {\n",
       "        vertical-align: middle;\n",
       "    }\n",
       "\n",
       "    .dataframe tbody tr th {\n",
       "        vertical-align: top;\n",
       "    }\n",
       "\n",
       "    .dataframe thead th {\n",
       "        text-align: right;\n",
       "    }\n",
       "</style>\n",
       "<table border=\"1\" class=\"dataframe\">\n",
       "  <thead>\n",
       "    <tr style=\"text-align: right;\">\n",
       "      <th></th>\n",
       "      <th>GSM</th>\n",
       "      <th>Smoking Status</th>\n",
       "      <th>Gender</th>\n",
       "      <th>Age</th>\n",
       "      <th>cg00050873</th>\n",
       "      <th>cg00212031</th>\n",
       "      <th>cg00213748</th>\n",
       "      <th>cg00214611</th>\n",
       "      <th>cg00455876</th>\n",
       "      <th>cg01707559</th>\n",
       "      <th>...</th>\n",
       "      <th>cg02494853</th>\n",
       "      <th>cg02839557</th>\n",
       "      <th>cg02842889</th>\n",
       "      <th>cg03052502</th>\n",
       "      <th>cg03155755</th>\n",
       "      <th>cg03244189</th>\n",
       "      <th>cg03443143</th>\n",
       "      <th>cg03683899</th>\n",
       "      <th>cg03695421</th>\n",
       "      <th>cg03706273</th>\n",
       "    </tr>\n",
       "  </thead>\n",
       "  <tbody>\n",
       "    <tr>\n",
       "      <th>0</th>\n",
       "      <td>GSM1051525</td>\n",
       "      <td>current</td>\n",
       "      <td>f</td>\n",
       "      <td>67</td>\n",
       "      <td>0.607563</td>\n",
       "      <td>0.422843</td>\n",
       "      <td>0.372455</td>\n",
       "      <td>0.621562</td>\n",
       "      <td>0.290777</td>\n",
       "      <td>0.267143</td>\n",
       "      <td>...</td>\n",
       "      <td>0.067070</td>\n",
       "      <td>0.246993</td>\n",
       "      <td>0.469240</td>\n",
       "      <td>0.400247</td>\n",
       "      <td>0.415031</td>\n",
       "      <td>0.221433</td>\n",
       "      <td>0.475826</td>\n",
       "      <td>0.207724</td>\n",
       "      <td>0.209197</td>\n",
       "      <td>0.129983</td>\n",
       "    </tr>\n",
       "    <tr>\n",
       "      <th>1</th>\n",
       "      <td>GSM1051526</td>\n",
       "      <td>current</td>\n",
       "      <td>f</td>\n",
       "      <td>49</td>\n",
       "      <td>0.345054</td>\n",
       "      <td>0.568662</td>\n",
       "      <td>0.500600</td>\n",
       "      <td>0.498607</td>\n",
       "      <td>0.374591</td>\n",
       "      <td>0.190274</td>\n",
       "      <td>...</td>\n",
       "      <td>0.046939</td>\n",
       "      <td>0.236742</td>\n",
       "      <td>0.307467</td>\n",
       "      <td>0.377031</td>\n",
       "      <td>0.397371</td>\n",
       "      <td>0.217122</td>\n",
       "      <td>0.544469</td>\n",
       "      <td>0.184446</td>\n",
       "      <td>0.193773</td>\n",
       "      <td>0.098533</td>\n",
       "    </tr>\n",
       "    <tr>\n",
       "      <th>2</th>\n",
       "      <td>GSM1051527</td>\n",
       "      <td>current</td>\n",
       "      <td>f</td>\n",
       "      <td>53</td>\n",
       "      <td>0.321350</td>\n",
       "      <td>0.360909</td>\n",
       "      <td>0.352732</td>\n",
       "      <td>0.373824</td>\n",
       "      <td>0.230674</td>\n",
       "      <td>0.314705</td>\n",
       "      <td>...</td>\n",
       "      <td>0.038237</td>\n",
       "      <td>0.244612</td>\n",
       "      <td>0.357753</td>\n",
       "      <td>0.305044</td>\n",
       "      <td>0.521278</td>\n",
       "      <td>0.185049</td>\n",
       "      <td>0.537060</td>\n",
       "      <td>0.393123</td>\n",
       "      <td>0.268003</td>\n",
       "      <td>0.040248</td>\n",
       "    </tr>\n",
       "    <tr>\n",
       "      <th>3</th>\n",
       "      <td>GSM1051528</td>\n",
       "      <td>current</td>\n",
       "      <td>f</td>\n",
       "      <td>62</td>\n",
       "      <td>0.277268</td>\n",
       "      <td>0.304437</td>\n",
       "      <td>0.475235</td>\n",
       "      <td>0.486258</td>\n",
       "      <td>0.295181</td>\n",
       "      <td>0.295793</td>\n",
       "      <td>...</td>\n",
       "      <td>0.026716</td>\n",
       "      <td>0.001641</td>\n",
       "      <td>0.445739</td>\n",
       "      <td>0.271475</td>\n",
       "      <td>0.434492</td>\n",
       "      <td>0.165419</td>\n",
       "      <td>0.507917</td>\n",
       "      <td>0.281209</td>\n",
       "      <td>0.217857</td>\n",
       "      <td>0.101516</td>\n",
       "    </tr>\n",
       "    <tr>\n",
       "      <th>4</th>\n",
       "      <td>GSM1051529</td>\n",
       "      <td>never</td>\n",
       "      <td>f</td>\n",
       "      <td>33</td>\n",
       "      <td>0.413599</td>\n",
       "      <td>0.131251</td>\n",
       "      <td>0.367545</td>\n",
       "      <td>0.761167</td>\n",
       "      <td>0.235770</td>\n",
       "      <td>0.250526</td>\n",
       "      <td>...</td>\n",
       "      <td>0.037016</td>\n",
       "      <td>0.334320</td>\n",
       "      <td>0.395040</td>\n",
       "      <td>0.326553</td>\n",
       "      <td>0.430097</td>\n",
       "      <td>0.181135</td>\n",
       "      <td>0.405479</td>\n",
       "      <td>0.310794</td>\n",
       "      <td>0.280071</td>\n",
       "      <td>0.077857</td>\n",
       "    </tr>\n",
       "  </tbody>\n",
       "</table>\n",
       "<p>5 rows × 24 columns</p>\n",
       "</div>"
      ],
      "text/plain": [
       "          GSM Smoking Status Gender  Age  cg00050873  cg00212031  cg00213748  \\\n",
       "0  GSM1051525        current      f   67    0.607563    0.422843    0.372455   \n",
       "1  GSM1051526        current      f   49    0.345054    0.568662    0.500600   \n",
       "2  GSM1051527        current      f   53    0.321350    0.360909    0.352732   \n",
       "3  GSM1051528        current      f   62    0.277268    0.304437    0.475235   \n",
       "4  GSM1051529          never      f   33    0.413599    0.131251    0.367545   \n",
       "\n",
       "   cg00214611  cg00455876  cg01707559  ...  cg02494853  cg02839557  \\\n",
       "0    0.621562    0.290777    0.267143  ...    0.067070    0.246993   \n",
       "1    0.498607    0.374591    0.190274  ...    0.046939    0.236742   \n",
       "2    0.373824    0.230674    0.314705  ...    0.038237    0.244612   \n",
       "3    0.486258    0.295181    0.295793  ...    0.026716    0.001641   \n",
       "4    0.761167    0.235770    0.250526  ...    0.037016    0.334320   \n",
       "\n",
       "   cg02842889  cg03052502  cg03155755  cg03244189  cg03443143  cg03683899  \\\n",
       "0    0.469240    0.400247    0.415031    0.221433    0.475826    0.207724   \n",
       "1    0.307467    0.377031    0.397371    0.217122    0.544469    0.184446   \n",
       "2    0.357753    0.305044    0.521278    0.185049    0.537060    0.393123   \n",
       "3    0.445739    0.271475    0.434492    0.165419    0.507917    0.281209   \n",
       "4    0.395040    0.326553    0.430097    0.181135    0.405479    0.310794   \n",
       "\n",
       "   cg03695421  cg03706273  \n",
       "0    0.209197    0.129983  \n",
       "1    0.193773    0.098533  \n",
       "2    0.268003    0.040248  \n",
       "3    0.217857    0.101516  \n",
       "4    0.280071    0.077857  \n",
       "\n",
       "[5 rows x 24 columns]"
      ]
     },
     "execution_count": 13,
     "metadata": {},
     "output_type": "execute_result"
    }
   ],
   "source": [
    "# Cargar datos del archivo csv\n",
    "df = pd.read_csv('Smoker_Epigenetic.csv')\n",
    "\n",
    "# Mostrar los primeros 5 registros\n",
    "df.head()"
   ]
  },
  {
   "cell_type": "markdown",
   "id": "a1094844fb89c28e",
   "metadata": {},
   "source": [
    "## Data preparation"
   ]
  },
  {
   "cell_type": "code",
   "execution_count": 14,
   "id": "ef15159ea8d3a238",
   "metadata": {
    "ExecuteTime": {
     "end_time": "2024-06-03T20:43:35.836416Z",
     "start_time": "2024-06-03T20:43:35.747364Z"
    }
   },
   "outputs": [],
   "source": [
    "# Eliminar la columna 'GSM' ya que no es relevante para el análisis\n",
    "df = df.drop(['GSM'], axis=1)\n",
    "\n",
    "# Normalizar los valores de la columna 'Género' para que sean uniformes\n",
    "df['Gender'] = df['Gender'].str.lower()\n",
    "\n",
    "# Imputación de valores faltantes\n",
    "imp = SimpleImputer(strategy='mean')\n",
    "df.iloc[:, 3:] = imp.fit_transform(df.iloc[:, 3:])\n",
    "\n",
    "# Codificación de variables categóricas\n",
    "label_encoder = LabelEncoder()\n",
    "df['Smoking Status'] = label_encoder.fit_transform(df['Smoking Status'])\n",
    "df['Gender'] = label_encoder.fit_transform(df['Gender'])"
   ]
  },
  {
   "cell_type": "code",
   "execution_count": 15,
   "id": "b1e533d78872ad8f",
   "metadata": {
    "ExecuteTime": {
     "end_time": "2024-06-03T20:43:35.930441Z",
     "start_time": "2024-06-03T20:43:35.841671Z"
    }
   },
   "outputs": [
    {
     "name": "stdout",
     "output_type": "stream",
     "text": [
      "0    490\n",
      "1    193\n",
      "Name: Smoking Status, dtype: int64\n"
     ]
    }
   ],
   "source": [
    "#Verificar el balance de clases\n",
    "print(df['Smoking Status'].value_counts())"
   ]
  },
  {
   "cell_type": "code",
   "execution_count": 16,
   "id": "30290e77a9325b60",
   "metadata": {
    "ExecuteTime": {
     "end_time": "2024-06-03T20:43:36.081166Z",
     "start_time": "2024-06-03T20:43:35.934904Z"
    }
   },
   "outputs": [
    {
     "name": "stdout",
     "output_type": "stream",
     "text": [
      "[0 1]\n",
      "[0 1]\n"
     ]
    },
    {
     "data": {
      "text/html": [
       "<div>\n",
       "<style scoped>\n",
       "    .dataframe tbody tr th:only-of-type {\n",
       "        vertical-align: middle;\n",
       "    }\n",
       "\n",
       "    .dataframe tbody tr th {\n",
       "        vertical-align: top;\n",
       "    }\n",
       "\n",
       "    .dataframe thead th {\n",
       "        text-align: right;\n",
       "    }\n",
       "</style>\n",
       "<table border=\"1\" class=\"dataframe\">\n",
       "  <thead>\n",
       "    <tr style=\"text-align: right;\">\n",
       "      <th></th>\n",
       "      <th>Smoking Status</th>\n",
       "      <th>Gender</th>\n",
       "      <th>Age</th>\n",
       "      <th>cg00050873</th>\n",
       "      <th>cg00212031</th>\n",
       "      <th>cg00213748</th>\n",
       "      <th>cg00214611</th>\n",
       "      <th>cg00455876</th>\n",
       "      <th>cg01707559</th>\n",
       "      <th>cg02004872</th>\n",
       "      <th>...</th>\n",
       "      <th>cg02494853</th>\n",
       "      <th>cg02839557</th>\n",
       "      <th>cg02842889</th>\n",
       "      <th>cg03052502</th>\n",
       "      <th>cg03155755</th>\n",
       "      <th>cg03244189</th>\n",
       "      <th>cg03443143</th>\n",
       "      <th>cg03683899</th>\n",
       "      <th>cg03695421</th>\n",
       "      <th>cg03706273</th>\n",
       "    </tr>\n",
       "  </thead>\n",
       "  <tbody>\n",
       "    <tr>\n",
       "      <th>0</th>\n",
       "      <td>0</td>\n",
       "      <td>0</td>\n",
       "      <td>67</td>\n",
       "      <td>0.607563</td>\n",
       "      <td>0.422843</td>\n",
       "      <td>0.372455</td>\n",
       "      <td>0.621562</td>\n",
       "      <td>0.290777</td>\n",
       "      <td>0.267143</td>\n",
       "      <td>0.179144</td>\n",
       "      <td>...</td>\n",
       "      <td>0.067070</td>\n",
       "      <td>0.246993</td>\n",
       "      <td>0.469240</td>\n",
       "      <td>0.400247</td>\n",
       "      <td>0.415031</td>\n",
       "      <td>0.221433</td>\n",
       "      <td>0.475826</td>\n",
       "      <td>0.207724</td>\n",
       "      <td>0.209197</td>\n",
       "      <td>0.129983</td>\n",
       "    </tr>\n",
       "    <tr>\n",
       "      <th>1</th>\n",
       "      <td>0</td>\n",
       "      <td>0</td>\n",
       "      <td>49</td>\n",
       "      <td>0.345054</td>\n",
       "      <td>0.568662</td>\n",
       "      <td>0.500600</td>\n",
       "      <td>0.498607</td>\n",
       "      <td>0.374591</td>\n",
       "      <td>0.190274</td>\n",
       "      <td>0.155977</td>\n",
       "      <td>...</td>\n",
       "      <td>0.046939</td>\n",
       "      <td>0.236742</td>\n",
       "      <td>0.307467</td>\n",
       "      <td>0.377031</td>\n",
       "      <td>0.397371</td>\n",
       "      <td>0.217122</td>\n",
       "      <td>0.544469</td>\n",
       "      <td>0.184446</td>\n",
       "      <td>0.193773</td>\n",
       "      <td>0.098533</td>\n",
       "    </tr>\n",
       "    <tr>\n",
       "      <th>2</th>\n",
       "      <td>0</td>\n",
       "      <td>0</td>\n",
       "      <td>53</td>\n",
       "      <td>0.321350</td>\n",
       "      <td>0.360909</td>\n",
       "      <td>0.352732</td>\n",
       "      <td>0.373824</td>\n",
       "      <td>0.230674</td>\n",
       "      <td>0.314705</td>\n",
       "      <td>0.105745</td>\n",
       "      <td>...</td>\n",
       "      <td>0.038237</td>\n",
       "      <td>0.244612</td>\n",
       "      <td>0.357753</td>\n",
       "      <td>0.305044</td>\n",
       "      <td>0.521278</td>\n",
       "      <td>0.185049</td>\n",
       "      <td>0.537060</td>\n",
       "      <td>0.393123</td>\n",
       "      <td>0.268003</td>\n",
       "      <td>0.040248</td>\n",
       "    </tr>\n",
       "    <tr>\n",
       "      <th>3</th>\n",
       "      <td>0</td>\n",
       "      <td>0</td>\n",
       "      <td>62</td>\n",
       "      <td>0.277268</td>\n",
       "      <td>0.304437</td>\n",
       "      <td>0.475235</td>\n",
       "      <td>0.486258</td>\n",
       "      <td>0.295181</td>\n",
       "      <td>0.295793</td>\n",
       "      <td>0.111286</td>\n",
       "      <td>...</td>\n",
       "      <td>0.026716</td>\n",
       "      <td>0.001641</td>\n",
       "      <td>0.445739</td>\n",
       "      <td>0.271475</td>\n",
       "      <td>0.434492</td>\n",
       "      <td>0.165419</td>\n",
       "      <td>0.507917</td>\n",
       "      <td>0.281209</td>\n",
       "      <td>0.217857</td>\n",
       "      <td>0.101516</td>\n",
       "    </tr>\n",
       "    <tr>\n",
       "      <th>4</th>\n",
       "      <td>1</td>\n",
       "      <td>0</td>\n",
       "      <td>33</td>\n",
       "      <td>0.413599</td>\n",
       "      <td>0.131251</td>\n",
       "      <td>0.367545</td>\n",
       "      <td>0.761167</td>\n",
       "      <td>0.235770</td>\n",
       "      <td>0.250526</td>\n",
       "      <td>0.169108</td>\n",
       "      <td>...</td>\n",
       "      <td>0.037016</td>\n",
       "      <td>0.334320</td>\n",
       "      <td>0.395040</td>\n",
       "      <td>0.326553</td>\n",
       "      <td>0.430097</td>\n",
       "      <td>0.181135</td>\n",
       "      <td>0.405479</td>\n",
       "      <td>0.310794</td>\n",
       "      <td>0.280071</td>\n",
       "      <td>0.077857</td>\n",
       "    </tr>\n",
       "  </tbody>\n",
       "</table>\n",
       "<p>5 rows × 23 columns</p>\n",
       "</div>"
      ],
      "text/plain": [
       "   Smoking Status  Gender  Age  cg00050873  cg00212031  cg00213748  \\\n",
       "0               0       0   67    0.607563    0.422843    0.372455   \n",
       "1               0       0   49    0.345054    0.568662    0.500600   \n",
       "2               0       0   53    0.321350    0.360909    0.352732   \n",
       "3               0       0   62    0.277268    0.304437    0.475235   \n",
       "4               1       0   33    0.413599    0.131251    0.367545   \n",
       "\n",
       "   cg00214611  cg00455876  cg01707559  cg02004872  ...  cg02494853  \\\n",
       "0    0.621562    0.290777    0.267143    0.179144  ...    0.067070   \n",
       "1    0.498607    0.374591    0.190274    0.155977  ...    0.046939   \n",
       "2    0.373824    0.230674    0.314705    0.105745  ...    0.038237   \n",
       "3    0.486258    0.295181    0.295793    0.111286  ...    0.026716   \n",
       "4    0.761167    0.235770    0.250526    0.169108  ...    0.037016   \n",
       "\n",
       "   cg02839557  cg02842889  cg03052502  cg03155755  cg03244189  cg03443143  \\\n",
       "0    0.246993    0.469240    0.400247    0.415031    0.221433    0.475826   \n",
       "1    0.236742    0.307467    0.377031    0.397371    0.217122    0.544469   \n",
       "2    0.244612    0.357753    0.305044    0.521278    0.185049    0.537060   \n",
       "3    0.001641    0.445739    0.271475    0.434492    0.165419    0.507917   \n",
       "4    0.334320    0.395040    0.326553    0.430097    0.181135    0.405479   \n",
       "\n",
       "   cg03683899  cg03695421  cg03706273  \n",
       "0    0.207724    0.209197    0.129983  \n",
       "1    0.184446    0.193773    0.098533  \n",
       "2    0.393123    0.268003    0.040248  \n",
       "3    0.281209    0.217857    0.101516  \n",
       "4    0.310794    0.280071    0.077857  \n",
       "\n",
       "[5 rows x 23 columns]"
      ]
     },
     "execution_count": 16,
     "metadata": {},
     "output_type": "execute_result"
    }
   ],
   "source": [
    "# Verificar los valores codificados\n",
    "print(df['Gender'].unique())  # Debería mostrar 0 y 1\n",
    "print(df['Smoking Status'].unique())\n",
    "\n",
    "df.head()"
   ]
  },
  {
   "cell_type": "markdown",
   "id": "59288e86b9fb1bc4",
   "metadata": {},
   "source": [
    "## Splitting the data into training and test sets"
   ]
  },
  {
   "cell_type": "code",
   "execution_count": 17,
   "id": "52c3828c1ded86d",
   "metadata": {
    "ExecuteTime": {
     "end_time": "2024-06-03T20:43:36.219555Z",
     "start_time": "2024-06-03T20:43:36.083115Z"
    }
   },
   "outputs": [],
   "source": [
    "# Definir variables predictoras y objetivo\n",
    "X = df.drop(['Smoking Status'], axis=1)\n",
    "y = df['Smoking Status']\n",
    "\n",
    "# División de los datos\n",
    "X_train, X_test, y_train, y_test = train_test_split(X, y, test_size=0.2, random_state=42)\n"
   ]
  },
  {
   "cell_type": "markdown",
   "id": "4822fcde20bf286c",
   "metadata": {},
   "source": [
    "## Feature selection and reduction of attributes"
   ]
  },
  {
   "cell_type": "code",
   "execution_count": 18,
   "id": "bb4f43b3723d5546",
   "metadata": {
    "ExecuteTime": {
     "end_time": "2024-06-03T20:43:36.349842Z",
     "start_time": "2024-06-03T20:43:36.221541Z"
    }
   },
   "outputs": [],
   "source": [
    "from sklearn.decomposition import PCA\n",
    "from sklearn.feature_selection import VarianceThreshold, SelectKBest, f_classif\n",
    "\n",
    "# Variance Threshold\n",
    "selector = VarianceThreshold(threshold=0.0)\n",
    "X_train = selector.fit_transform(X_train)\n",
    "X_test = selector.transform(X_test)\n",
    "\n",
    "# SelectKBest\n",
    "k_best = SelectKBest(f_classif, k=10)\n",
    "X_train = k_best.fit_transform(X_train, y_train)\n",
    "X_test = k_best.transform(X_test)\n",
    "\n",
    "# PCA\n",
    "pca = PCA(n_components=10)\n",
    "X_train = pca.fit_transform(X_train)\n",
    "X_test = pca.transform(X_test)\n"
   ]
  },
  {
   "cell_type": "markdown",
   "id": "6ecab505c1577218",
   "metadata": {},
   "source": [
    "## Training and Evaluation of the Base Model"
   ]
  },
  {
   "cell_type": "code",
   "execution_count": 19,
   "id": "44cb54d58f655167",
   "metadata": {
    "ExecuteTime": {
     "end_time": "2024-06-03T20:43:36.544617Z",
     "start_time": "2024-06-03T20:43:36.354812Z"
    }
   },
   "outputs": [],
   "source": [
    "from sklearn.metrics import precision_score, recall_score, f1_score\n",
    "\n",
    "# Modelo de Regresión Logística para Clasificación\n",
    "model = LogisticRegression(max_iter=1000)\n",
    "model.fit(X_train, y_train)\n",
    "y_pred = model.predict(X_test)\n",
    "\n",
    "# Evaluación del modelo base\n",
    "metrics_log_reg = {\n",
    "    'Exactitud': accuracy_score(y_test, y_pred),\n",
    "    'Precisión': precision_score(y_test, y_pred, average='weighted'),\n",
    "    'Recall': recall_score(y_test, y_pred, average='weighted'),\n",
    "    'F1-Score': f1_score(y_test, y_pred, average='weighted')\n",
    "}"
   ]
  },
  {
   "cell_type": "markdown",
   "id": "dbba1854b4f3b88",
   "metadata": {},
   "source": [
    "## Optimization and Evaluation of the Model"
   ]
  },
  {
   "cell_type": "code",
   "execution_count": 20,
   "id": "1b73b828f527cb80",
   "metadata": {
    "ExecuteTime": {
     "end_time": "2024-06-03T20:44:07.222668Z",
     "start_time": "2024-06-03T20:43:36.546933Z"
    }
   },
   "outputs": [],
   "source": [
    "from sklearn.ensemble import RandomForestClassifier\n",
    "from sklearn.svm import SVC\n",
    "from sklearn.model_selection import GridSearchCV\n",
    "\n",
    "# Modelos Avanzados\n",
    "models = {\n",
    "    'Random Forest': RandomForestClassifier(),\n",
    "    'SVM': SVC()\n",
    "}\n",
    "\n",
    "# Búsqueda de hiperparámetros\n",
    "param_grid_rf = {\n",
    "    'n_estimators': [100, 200, 300], \n",
    "    'max_depth': [None, 10, 20, 30]\n",
    "}\n",
    "param_grid_svm = {'C': [0.1, 1, 10], 'gamma': [1, 0.1, 0.01]}\n",
    "\n",
    "grid_rf = GridSearchCV(models['Random Forest'], param_grid_rf, cv=5)\n",
    "grid_svm = GridSearchCV(models['SVM'], param_grid_svm, cv=5)\n",
    "\n",
    "grid_rf.fit(X_train, y_train)\n",
    "grid_svm.fit(X_train, y_train)\n",
    "\n",
    "# Evaluación de los mejores modelos\n",
    "best_rf = grid_rf.best_estimator_\n",
    "best_svm = grid_svm.best_estimator_\n",
    "\n",
    "y_pred_rf = best_rf.predict(X_test)\n",
    "y_pred_svm = best_svm.predict(X_test)\n",
    "\n",
    "metrics_rf = {\n",
    "    'Exactitud': accuracy_score(y_test, y_pred_rf),\n",
    "    'Precisión': precision_score(y_test, y_pred_rf, average='weighted'),\n",
    "    'Recall': recall_score(y_test, y_pred_rf, average='weighted'),\n",
    "    'F1-Score': f1_score(y_test, y_pred_rf, average='weighted')\n",
    "}\n",
    "\n",
    "metrics_svm = {\n",
    "    'Exactitud': accuracy_score(y_test, y_pred_svm),\n",
    "    'Precisión': precision_score(y_test, y_pred_svm, average='weighted'),\n",
    "    'Recall': recall_score(y_test, y_pred_svm, average='weighted'),\n",
    "    'F1-Score': f1_score(y_test, y_pred_svm, average='weighted')\n",
    "}"
   ]
  },
  {
   "cell_type": "code",
   "execution_count": 21,
   "id": "9c7e1835d1eb4a21",
   "metadata": {
    "ExecuteTime": {
     "end_time": "2024-06-03T20:44:07.247531Z",
     "start_time": "2024-06-03T20:44:07.226263Z"
    }
   },
   "outputs": [
    {
     "name": "stdout",
     "output_type": "stream",
     "text": [
      "                            Exactitud  Precisión    Recall  F1-Score\n",
      "Regresión Logística          0.737226   0.753395  0.737226  0.655122\n",
      "Random Forest (Optimizado)   0.737226   0.710399  0.737226  0.704086\n",
      "SVM (Optimizado)             0.729927   0.704712  0.729927  0.659301\n"
     ]
    }
   ],
   "source": [
    "# Crear un DataFrame para comparar las métricas\n",
    "df_metrics = pd.DataFrame([metrics_log_reg, metrics_rf, metrics_svm], \n",
    "                          index=['Regresión Logística', 'Random Forest (Optimizado)', 'SVM (Optimizado)'])\n",
    "\n",
    "# Mostrar la tabla comparativa\n",
    "print(df_metrics)"
   ]
  }
 ],
 "metadata": {
  "kernelspec": {
   "display_name": "Python 3",
   "language": "python",
   "name": "python3"
  },
  "language_info": {
   "codemirror_mode": {
    "name": "ipython",
    "version": 2
   },
   "file_extension": ".py",
   "mimetype": "text/x-python",
   "name": "python",
   "nbconvert_exporter": "python",
   "pygments_lexer": "ipython2",
   "version": "2.7.6"
  }
 },
 "nbformat": 4,
 "nbformat_minor": 5
}
